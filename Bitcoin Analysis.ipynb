{
 "cells": [
  {
   "cell_type": "markdown",
   "id": "7771e12c-03dc-4a3b-90b2-9a6f35d4f4cf",
   "metadata": {},
   "source": [
    "IMPORTING REQUIRED LIBRARIES"
   ]
  },
  {
   "cell_type": "code",
   "execution_count": 102,
   "id": "1f36dfda-8de8-4595-ab7c-c7938a3bca99",
   "metadata": {},
   "outputs": [],
   "source": [
    "import pandas as pd\n",
    "import numpy as np\n",
    "\n",
    "import seaborn as sns\n",
    "import matplotlib.pyplot as plt\n",
    "%matplotlib inline\n",
    "from sklearn.metrics import accuracy_score\n",
    "from sklearn.model_selection import train_test_split\n"
   ]
  },
  {
   "cell_type": "markdown",
   "id": "4e6e76fd-a2e1-4147-8f73-77a20a5128fd",
   "metadata": {},
   "source": [
    "LOAD THE DATASET"
   ]
  },
  {
   "cell_type": "code",
   "execution_count": 103,
   "id": "5ace6842-3093-4562-9348-90948b12ca5c",
   "metadata": {},
   "outputs": [],
   "source": [
    "data = pd.read_csv('BTC-USD.csv')"
   ]
  },
  {
   "cell_type": "markdown",
   "id": "2e1d23b2-ee00-4c5f-85c0-c8e09ddba7a5",
   "metadata": {},
   "source": [
    "ANALYSIS OF DATA"
   ]
  },
  {
   "cell_type": "code",
   "execution_count": 104,
   "id": "5acad7ea-00ee-4ee0-a724-b628303edb1f",
   "metadata": {},
   "outputs": [
    {
     "data": {
      "text/html": [
       "<div>\n",
       "<style scoped>\n",
       "    .dataframe tbody tr th:only-of-type {\n",
       "        vertical-align: middle;\n",
       "    }\n",
       "\n",
       "    .dataframe tbody tr th {\n",
       "        vertical-align: top;\n",
       "    }\n",
       "\n",
       "    .dataframe thead th {\n",
       "        text-align: right;\n",
       "    }\n",
       "</style>\n",
       "<table border=\"1\" class=\"dataframe\">\n",
       "  <thead>\n",
       "    <tr style=\"text-align: right;\">\n",
       "      <th></th>\n",
       "      <th>Date</th>\n",
       "      <th>Open</th>\n",
       "      <th>High</th>\n",
       "      <th>Low</th>\n",
       "      <th>Close</th>\n",
       "      <th>Adj Close</th>\n",
       "      <th>Volume</th>\n",
       "    </tr>\n",
       "  </thead>\n",
       "  <tbody>\n",
       "    <tr>\n",
       "      <th>229</th>\n",
       "      <td>2015-05-04</td>\n",
       "      <td>240.356003</td>\n",
       "      <td>242.638000</td>\n",
       "      <td>237.809998</td>\n",
       "      <td>239.018005</td>\n",
       "      <td>239.018005</td>\n",
       "      <td>21223400</td>\n",
       "    </tr>\n",
       "    <tr>\n",
       "      <th>617</th>\n",
       "      <td>2016-05-26</td>\n",
       "      <td>449.671997</td>\n",
       "      <td>453.644012</td>\n",
       "      <td>447.895996</td>\n",
       "      <td>453.384003</td>\n",
       "      <td>453.384003</td>\n",
       "      <td>65203800</td>\n",
       "    </tr>\n",
       "    <tr>\n",
       "      <th>1234</th>\n",
       "      <td>2018-02-02</td>\n",
       "      <td>9142.280273</td>\n",
       "      <td>9142.280273</td>\n",
       "      <td>7796.490234</td>\n",
       "      <td>8830.750000</td>\n",
       "      <td>8830.750000</td>\n",
       "      <td>12726899712</td>\n",
       "    </tr>\n",
       "    <tr>\n",
       "      <th>744</th>\n",
       "      <td>2016-09-30</td>\n",
       "      <td>605.715027</td>\n",
       "      <td>609.734985</td>\n",
       "      <td>604.142029</td>\n",
       "      <td>609.734985</td>\n",
       "      <td>609.734985</td>\n",
       "      <td>56122400</td>\n",
       "    </tr>\n",
       "    <tr>\n",
       "      <th>261</th>\n",
       "      <td>2015-06-05</td>\n",
       "      <td>224.154007</td>\n",
       "      <td>225.968002</td>\n",
       "      <td>223.179001</td>\n",
       "      <td>224.951996</td>\n",
       "      <td>224.951996</td>\n",
       "      <td>18056500</td>\n",
       "    </tr>\n",
       "    <tr>\n",
       "      <th>62</th>\n",
       "      <td>2014-11-18</td>\n",
       "      <td>387.785004</td>\n",
       "      <td>392.402008</td>\n",
       "      <td>371.117004</td>\n",
       "      <td>375.197998</td>\n",
       "      <td>375.197998</td>\n",
       "      <td>32222500</td>\n",
       "    </tr>\n",
       "  </tbody>\n",
       "</table>\n",
       "</div>"
      ],
      "text/plain": [
       "            Date         Open         High          Low        Close  \\\n",
       "229   2015-05-04   240.356003   242.638000   237.809998   239.018005   \n",
       "617   2016-05-26   449.671997   453.644012   447.895996   453.384003   \n",
       "1234  2018-02-02  9142.280273  9142.280273  7796.490234  8830.750000   \n",
       "744   2016-09-30   605.715027   609.734985   604.142029   609.734985   \n",
       "261   2015-06-05   224.154007   225.968002   223.179001   224.951996   \n",
       "62    2014-11-18   387.785004   392.402008   371.117004   375.197998   \n",
       "\n",
       "        Adj Close       Volume  \n",
       "229    239.018005     21223400  \n",
       "617    453.384003     65203800  \n",
       "1234  8830.750000  12726899712  \n",
       "744    609.734985     56122400  \n",
       "261    224.951996     18056500  \n",
       "62     375.197998     32222500  "
      ]
     },
     "execution_count": 104,
     "metadata": {},
     "output_type": "execute_result"
    }
   ],
   "source": [
    "data.sample(6)"
   ]
  },
  {
   "cell_type": "code",
   "execution_count": 105,
   "id": "13c8d300-7927-49cc-ad4f-38b1a001ecc2",
   "metadata": {},
   "outputs": [
    {
     "data": {
      "text/html": [
       "<div>\n",
       "<style scoped>\n",
       "    .dataframe tbody tr th:only-of-type {\n",
       "        vertical-align: middle;\n",
       "    }\n",
       "\n",
       "    .dataframe tbody tr th {\n",
       "        vertical-align: top;\n",
       "    }\n",
       "\n",
       "    .dataframe thead th {\n",
       "        text-align: right;\n",
       "    }\n",
       "</style>\n",
       "<table border=\"1\" class=\"dataframe\">\n",
       "  <thead>\n",
       "    <tr style=\"text-align: right;\">\n",
       "      <th></th>\n",
       "      <th>Open</th>\n",
       "      <th>High</th>\n",
       "      <th>Low</th>\n",
       "      <th>Close</th>\n",
       "      <th>Adj Close</th>\n",
       "      <th>Volume</th>\n",
       "    </tr>\n",
       "  </thead>\n",
       "  <tbody>\n",
       "    <tr>\n",
       "      <th>count</th>\n",
       "      <td>2713.000000</td>\n",
       "      <td>2713.000000</td>\n",
       "      <td>2713.000000</td>\n",
       "      <td>2713.000000</td>\n",
       "      <td>2713.000000</td>\n",
       "      <td>2.713000e+03</td>\n",
       "    </tr>\n",
       "    <tr>\n",
       "      <th>mean</th>\n",
       "      <td>11311.041069</td>\n",
       "      <td>11614.292482</td>\n",
       "      <td>10975.555057</td>\n",
       "      <td>11323.914637</td>\n",
       "      <td>11323.914637</td>\n",
       "      <td>1.470462e+10</td>\n",
       "    </tr>\n",
       "    <tr>\n",
       "      <th>std</th>\n",
       "      <td>16106.428891</td>\n",
       "      <td>16537.390649</td>\n",
       "      <td>15608.572560</td>\n",
       "      <td>16110.365010</td>\n",
       "      <td>16110.365010</td>\n",
       "      <td>2.001627e+10</td>\n",
       "    </tr>\n",
       "    <tr>\n",
       "      <th>min</th>\n",
       "      <td>176.897003</td>\n",
       "      <td>211.731003</td>\n",
       "      <td>171.509995</td>\n",
       "      <td>178.102997</td>\n",
       "      <td>178.102997</td>\n",
       "      <td>5.914570e+06</td>\n",
       "    </tr>\n",
       "    <tr>\n",
       "      <th>25%</th>\n",
       "      <td>606.396973</td>\n",
       "      <td>609.260986</td>\n",
       "      <td>604.109985</td>\n",
       "      <td>606.718994</td>\n",
       "      <td>606.718994</td>\n",
       "      <td>7.991080e+07</td>\n",
       "    </tr>\n",
       "    <tr>\n",
       "      <th>50%</th>\n",
       "      <td>6301.569824</td>\n",
       "      <td>6434.617676</td>\n",
       "      <td>6214.220215</td>\n",
       "      <td>6317.609863</td>\n",
       "      <td>6317.609863</td>\n",
       "      <td>5.098183e+09</td>\n",
       "    </tr>\n",
       "    <tr>\n",
       "      <th>75%</th>\n",
       "      <td>10452.399414</td>\n",
       "      <td>10762.644531</td>\n",
       "      <td>10202.387695</td>\n",
       "      <td>10462.259766</td>\n",
       "      <td>10462.259766</td>\n",
       "      <td>2.456992e+10</td>\n",
       "    </tr>\n",
       "    <tr>\n",
       "      <th>max</th>\n",
       "      <td>67549.734375</td>\n",
       "      <td>68789.625000</td>\n",
       "      <td>66382.062500</td>\n",
       "      <td>67566.828125</td>\n",
       "      <td>67566.828125</td>\n",
       "      <td>3.509679e+11</td>\n",
       "    </tr>\n",
       "  </tbody>\n",
       "</table>\n",
       "</div>"
      ],
      "text/plain": [
       "               Open          High           Low         Close     Adj Close  \\\n",
       "count   2713.000000   2713.000000   2713.000000   2713.000000   2713.000000   \n",
       "mean   11311.041069  11614.292482  10975.555057  11323.914637  11323.914637   \n",
       "std    16106.428891  16537.390649  15608.572560  16110.365010  16110.365010   \n",
       "min      176.897003    211.731003    171.509995    178.102997    178.102997   \n",
       "25%      606.396973    609.260986    604.109985    606.718994    606.718994   \n",
       "50%     6301.569824   6434.617676   6214.220215   6317.609863   6317.609863   \n",
       "75%    10452.399414  10762.644531  10202.387695  10462.259766  10462.259766   \n",
       "max    67549.734375  68789.625000  66382.062500  67566.828125  67566.828125   \n",
       "\n",
       "             Volume  \n",
       "count  2.713000e+03  \n",
       "mean   1.470462e+10  \n",
       "std    2.001627e+10  \n",
       "min    5.914570e+06  \n",
       "25%    7.991080e+07  \n",
       "50%    5.098183e+09  \n",
       "75%    2.456992e+10  \n",
       "max    3.509679e+11  "
      ]
     },
     "execution_count": 105,
     "metadata": {},
     "output_type": "execute_result"
    }
   ],
   "source": [
    "data.describe()"
   ]
  },
  {
   "cell_type": "code",
   "execution_count": 106,
   "id": "ab2ccd51-0288-4ed5-960b-6f06c71929fc",
   "metadata": {},
   "outputs": [
    {
     "name": "stdout",
     "output_type": "stream",
     "text": [
      "<class 'pandas.core.frame.DataFrame'>\n",
      "RangeIndex: 2713 entries, 0 to 2712\n",
      "Data columns (total 7 columns):\n",
      " #   Column     Non-Null Count  Dtype  \n",
      "---  ------     --------------  -----  \n",
      " 0   Date       2713 non-null   object \n",
      " 1   Open       2713 non-null   float64\n",
      " 2   High       2713 non-null   float64\n",
      " 3   Low        2713 non-null   float64\n",
      " 4   Close      2713 non-null   float64\n",
      " 5   Adj Close  2713 non-null   float64\n",
      " 6   Volume     2713 non-null   int64  \n",
      "dtypes: float64(5), int64(1), object(1)\n",
      "memory usage: 148.5+ KB\n"
     ]
    }
   ],
   "source": [
    "data.info()"
   ]
  },
  {
   "cell_type": "code",
   "execution_count": 107,
   "id": "edb94abb-1097-4d37-92e1-fcfac2ce8eb1",
   "metadata": {},
   "outputs": [
    {
     "data": {
      "text/html": [
       "<div>\n",
       "<style scoped>\n",
       "    .dataframe tbody tr th:only-of-type {\n",
       "        vertical-align: middle;\n",
       "    }\n",
       "\n",
       "    .dataframe tbody tr th {\n",
       "        vertical-align: top;\n",
       "    }\n",
       "\n",
       "    .dataframe thead th {\n",
       "        text-align: right;\n",
       "    }\n",
       "</style>\n",
       "<table border=\"1\" class=\"dataframe\">\n",
       "  <thead>\n",
       "    <tr style=\"text-align: right;\">\n",
       "      <th></th>\n",
       "      <th>Date</th>\n",
       "      <th>Open</th>\n",
       "      <th>High</th>\n",
       "      <th>Low</th>\n",
       "      <th>Close</th>\n",
       "      <th>Adj Close</th>\n",
       "      <th>Volume</th>\n",
       "    </tr>\n",
       "  </thead>\n",
       "  <tbody>\n",
       "    <tr>\n",
       "      <th>0</th>\n",
       "      <td>False</td>\n",
       "      <td>False</td>\n",
       "      <td>False</td>\n",
       "      <td>False</td>\n",
       "      <td>False</td>\n",
       "      <td>False</td>\n",
       "      <td>False</td>\n",
       "    </tr>\n",
       "    <tr>\n",
       "      <th>1</th>\n",
       "      <td>False</td>\n",
       "      <td>False</td>\n",
       "      <td>False</td>\n",
       "      <td>False</td>\n",
       "      <td>False</td>\n",
       "      <td>False</td>\n",
       "      <td>False</td>\n",
       "    </tr>\n",
       "    <tr>\n",
       "      <th>2</th>\n",
       "      <td>False</td>\n",
       "      <td>False</td>\n",
       "      <td>False</td>\n",
       "      <td>False</td>\n",
       "      <td>False</td>\n",
       "      <td>False</td>\n",
       "      <td>False</td>\n",
       "    </tr>\n",
       "    <tr>\n",
       "      <th>3</th>\n",
       "      <td>False</td>\n",
       "      <td>False</td>\n",
       "      <td>False</td>\n",
       "      <td>False</td>\n",
       "      <td>False</td>\n",
       "      <td>False</td>\n",
       "      <td>False</td>\n",
       "    </tr>\n",
       "    <tr>\n",
       "      <th>4</th>\n",
       "      <td>False</td>\n",
       "      <td>False</td>\n",
       "      <td>False</td>\n",
       "      <td>False</td>\n",
       "      <td>False</td>\n",
       "      <td>False</td>\n",
       "      <td>False</td>\n",
       "    </tr>\n",
       "    <tr>\n",
       "      <th>...</th>\n",
       "      <td>...</td>\n",
       "      <td>...</td>\n",
       "      <td>...</td>\n",
       "      <td>...</td>\n",
       "      <td>...</td>\n",
       "      <td>...</td>\n",
       "      <td>...</td>\n",
       "    </tr>\n",
       "    <tr>\n",
       "      <th>2708</th>\n",
       "      <td>False</td>\n",
       "      <td>False</td>\n",
       "      <td>False</td>\n",
       "      <td>False</td>\n",
       "      <td>False</td>\n",
       "      <td>False</td>\n",
       "      <td>False</td>\n",
       "    </tr>\n",
       "    <tr>\n",
       "      <th>2709</th>\n",
       "      <td>False</td>\n",
       "      <td>False</td>\n",
       "      <td>False</td>\n",
       "      <td>False</td>\n",
       "      <td>False</td>\n",
       "      <td>False</td>\n",
       "      <td>False</td>\n",
       "    </tr>\n",
       "    <tr>\n",
       "      <th>2710</th>\n",
       "      <td>False</td>\n",
       "      <td>False</td>\n",
       "      <td>False</td>\n",
       "      <td>False</td>\n",
       "      <td>False</td>\n",
       "      <td>False</td>\n",
       "      <td>False</td>\n",
       "    </tr>\n",
       "    <tr>\n",
       "      <th>2711</th>\n",
       "      <td>False</td>\n",
       "      <td>False</td>\n",
       "      <td>False</td>\n",
       "      <td>False</td>\n",
       "      <td>False</td>\n",
       "      <td>False</td>\n",
       "      <td>False</td>\n",
       "    </tr>\n",
       "    <tr>\n",
       "      <th>2712</th>\n",
       "      <td>False</td>\n",
       "      <td>False</td>\n",
       "      <td>False</td>\n",
       "      <td>False</td>\n",
       "      <td>False</td>\n",
       "      <td>False</td>\n",
       "      <td>False</td>\n",
       "    </tr>\n",
       "  </tbody>\n",
       "</table>\n",
       "<p>2713 rows × 7 columns</p>\n",
       "</div>"
      ],
      "text/plain": [
       "       Date   Open   High    Low  Close  Adj Close  Volume\n",
       "0     False  False  False  False  False      False   False\n",
       "1     False  False  False  False  False      False   False\n",
       "2     False  False  False  False  False      False   False\n",
       "3     False  False  False  False  False      False   False\n",
       "4     False  False  False  False  False      False   False\n",
       "...     ...    ...    ...    ...    ...        ...     ...\n",
       "2708  False  False  False  False  False      False   False\n",
       "2709  False  False  False  False  False      False   False\n",
       "2710  False  False  False  False  False      False   False\n",
       "2711  False  False  False  False  False      False   False\n",
       "2712  False  False  False  False  False      False   False\n",
       "\n",
       "[2713 rows x 7 columns]"
      ]
     },
     "execution_count": 107,
     "metadata": {},
     "output_type": "execute_result"
    }
   ],
   "source": [
    "data.isnull()"
   ]
  },
  {
   "cell_type": "code",
   "execution_count": 108,
   "id": "ec091a1b-4e7a-4490-8c8c-51ab06dcb20d",
   "metadata": {},
   "outputs": [
    {
     "data": {
      "text/plain": [
       "False"
      ]
     },
     "execution_count": 108,
     "metadata": {},
     "output_type": "execute_result"
    }
   ],
   "source": [
    "data.isnull().values.any()"
   ]
  },
  {
   "cell_type": "code",
   "execution_count": 109,
   "id": "09af39bf-2e36-4fd2-89bb-3baf45670add",
   "metadata": {},
   "outputs": [
    {
     "name": "stderr",
     "output_type": "stream",
     "text": [
      "/var/folders/x7/kgfdd_ss2rz7sc7k1737rdn80000gp/T/ipykernel_1496/2029903605.py:1: UserWarning: Parsing dates in %Y-%m-%d format when dayfirst=True was specified. Pass `dayfirst=False` or specify a format to silence this warning.\n",
      "  data['Date'] = pd.to_datetime(data['Date'], errors = 'coerce', dayfirst = True)\n"
     ]
    }
   ],
   "source": [
    "data['Date'] = pd.to_datetime(data['Date'], errors = 'coerce', dayfirst = True)"
   ]
  },
  {
   "cell_type": "code",
   "execution_count": 110,
   "id": "af8b86af-76f5-4f0a-adda-88216cca66c1",
   "metadata": {},
   "outputs": [],
   "source": [
    "data = data[['Date', 'Open', 'High', 'Low', 'Volume', 'Close']]"
   ]
  },
  {
   "cell_type": "code",
   "execution_count": 111,
   "id": "744b136e-eca8-4b05-b53f-cdc6af72c117",
   "metadata": {},
   "outputs": [
    {
     "data": {
      "text/html": [
       "<div>\n",
       "<style scoped>\n",
       "    .dataframe tbody tr th:only-of-type {\n",
       "        vertical-align: middle;\n",
       "    }\n",
       "\n",
       "    .dataframe tbody tr th {\n",
       "        vertical-align: top;\n",
       "    }\n",
       "\n",
       "    .dataframe thead th {\n",
       "        text-align: right;\n",
       "    }\n",
       "</style>\n",
       "<table border=\"1\" class=\"dataframe\">\n",
       "  <thead>\n",
       "    <tr style=\"text-align: right;\">\n",
       "      <th></th>\n",
       "      <th>Date</th>\n",
       "      <th>Open</th>\n",
       "      <th>High</th>\n",
       "      <th>Low</th>\n",
       "      <th>Volume</th>\n",
       "      <th>Close</th>\n",
       "    </tr>\n",
       "  </thead>\n",
       "  <tbody>\n",
       "    <tr>\n",
       "      <th>0</th>\n",
       "      <td>2014-09-17</td>\n",
       "      <td>465.864014</td>\n",
       "      <td>468.174011</td>\n",
       "      <td>452.421997</td>\n",
       "      <td>21056800</td>\n",
       "      <td>457.334015</td>\n",
       "    </tr>\n",
       "    <tr>\n",
       "      <th>1</th>\n",
       "      <td>2014-09-18</td>\n",
       "      <td>456.859985</td>\n",
       "      <td>456.859985</td>\n",
       "      <td>413.104004</td>\n",
       "      <td>34483200</td>\n",
       "      <td>424.440002</td>\n",
       "    </tr>\n",
       "    <tr>\n",
       "      <th>2</th>\n",
       "      <td>2014-09-19</td>\n",
       "      <td>424.102997</td>\n",
       "      <td>427.834991</td>\n",
       "      <td>384.532013</td>\n",
       "      <td>37919700</td>\n",
       "      <td>394.795990</td>\n",
       "    </tr>\n",
       "    <tr>\n",
       "      <th>3</th>\n",
       "      <td>2014-09-20</td>\n",
       "      <td>394.673004</td>\n",
       "      <td>423.295990</td>\n",
       "      <td>389.882996</td>\n",
       "      <td>36863600</td>\n",
       "      <td>408.903992</td>\n",
       "    </tr>\n",
       "    <tr>\n",
       "      <th>4</th>\n",
       "      <td>2014-09-21</td>\n",
       "      <td>408.084991</td>\n",
       "      <td>412.425995</td>\n",
       "      <td>393.181000</td>\n",
       "      <td>26580100</td>\n",
       "      <td>398.821014</td>\n",
       "    </tr>\n",
       "  </tbody>\n",
       "</table>\n",
       "</div>"
      ],
      "text/plain": [
       "        Date        Open        High         Low    Volume       Close\n",
       "0 2014-09-17  465.864014  468.174011  452.421997  21056800  457.334015\n",
       "1 2014-09-18  456.859985  456.859985  413.104004  34483200  424.440002\n",
       "2 2014-09-19  424.102997  427.834991  384.532013  37919700  394.795990\n",
       "3 2014-09-20  394.673004  423.295990  389.882996  36863600  408.903992\n",
       "4 2014-09-21  408.084991  412.425995  393.181000  26580100  398.821014"
      ]
     },
     "execution_count": 111,
     "metadata": {},
     "output_type": "execute_result"
    }
   ],
   "source": [
    "data.head(5)"
   ]
  },
  {
   "cell_type": "markdown",
   "id": "72ee2549-245f-46f8-8c08-fa95ec168287",
   "metadata": {},
   "source": [
    "DATA VISUALISATION"
   ]
  },
  {
   "cell_type": "code",
   "execution_count": 112,
   "id": "e32c1311-b276-4af9-89e9-208fe12657da",
   "metadata": {},
   "outputs": [
    {
     "data": {
      "text/plain": [
       "<function matplotlib.pyplot.show(close=None, block=None)>"
      ]
     },
     "execution_count": 112,
     "metadata": {},
     "output_type": "execute_result"
    },
    {
     "data": {
      "image/png": "[encoded data removed]",
      "text/plain": [
       "<Figure size 1000x1000 with 6 Axes>"
      ]
     },
     "metadata": {},
     "output_type": "display_data"
    }
   ],
   "source": [
    "data.hist(bins=10,figsize=(10,10))\n",
    "plt.show"
   ]
  },
  {
   "cell_type": "code",
   "execution_count": 113,
   "id": "5695c309-ef12-4e5e-97ff-63e1dbd6985d",
   "metadata": {},
   "outputs": [
    {
     "data": {
      "text/plain": [
       "<Axes: xlabel='Date'>"
      ]
     },
     "execution_count": 113,
     "metadata": {},
     "output_type": "execute_result"
    },
    {
     "data": {
      "image/png": "[encoded data removed]",
      "text/plain": [
       "<Figure size 400x200 with 1 Axes>"
      ]
     },
     "metadata": {},
     "output_type": "display_data"
    }
   ],
   "source": [
    "data.plot(x = 'Date', y = 'Close')"
   ]
  },
  {
   "cell_type": "code",
   "execution_count": 114,
   "id": "8ccf26d6-2b29-44cb-9daa-d62831afdbca",
   "metadata": {},
   "outputs": [
    {
     "data": {
      "text/plain": [
       "<Axes: >"
      ]
     },
     "execution_count": 114,
     "metadata": {},
     "output_type": "execute_result"
    },
    {
     "data": {
      "image/png": "[encoded data removed]",
      "text/plain": [
       "<Figure size 400x200 with 2 Axes>"
      ]
     },
     "metadata": {},
     "output_type": "display_data"
    }
   ],
   "source": [
    "sns.heatmap(data.corr())"
   ]
  },
  {
   "cell_type": "code",
   "execution_count": 115,
   "id": "e3ede081-657c-4c0e-a1b6-dc0f87f7712d",
   "metadata": {},
   "outputs": [
    {
     "data": {
      "text/plain": [
       "<Axes: >"
      ]
     },
     "execution_count": 115,
     "metadata": {},
     "output_type": "execute_result"
    },
    {
     "data": {
      "image/png": "[encoded data removed]",
      "text/plain": [
       "<Figure size 1500x600 with 1 Axes>"
      ]
     },
     "metadata": {},
     "output_type": "display_data"
    }
   ],
   "source": [
    "sns.set(style=\"whitegrid\")\n",
    "data.boxplot(figsize=(15,6))"
   ]
  },
  {
   "cell_type": "code",
   "execution_count": 116,
   "id": "f35f489f-7a8d-4f8c-8216-a9bba01a69c9",
   "metadata": {},
   "outputs": [
    {
     "data": {
      "image/png": "[encoded data removed]",
      "text/plain": [
       "<Figure size 400x200 with 1 Axes>"
      ]
     },
     "metadata": {},
     "output_type": "display_data"
    },
    {
     "data": {
      "image/png": "[encoded data removed]",
      "text/plain": [
       "<Figure size 400x200 with 1 Axes>"
      ]
     },
     "metadata": {},
     "output_type": "display_data"
    },
    {
     "data": {
      "image/png": "[encoded data removed]",
      "text/plain": [
       "<Figure size 400x200 with 1 Axes>"
      ]
     },
     "metadata": {},
     "output_type": "display_data"
    },
    {
     "data": {
      "image/png": "[encoded data removed]",
      "text/plain": [
       "<Figure size 400x200 with 1 Axes>"
      ]
     },
     "metadata": {},
     "output_type": "display_data"
    },
    {
     "data": {
      "image/png": "[encoded data removed]",
      "text/plain": [
       "<Figure size 400x200 with 1 Axes>"
      ]
     },
     "metadata": {},
     "output_type": "display_data"
    }
   ],
   "source": [
    "#box plot\n",
    "sns.set(style=\"whitegrid\")\n",
    "\n",
    "sns.set(rc={'figure.figsize':(4,2)})\n",
    "sns.boxplot(x=data['Open'])\n",
    "plt.show()\n",
    "sns.boxplot(x=data['High'])\n",
    "plt.show()\n",
    "sns.boxplot(x=data['Low'])\n",
    "plt.show()\n",
    "sns.boxplot(x=data['Volume'])\n",
    "plt.show()\n",
    "sns.boxplot(x=data['Close'])\n",
    "plt.show()"
   ]
  },
  {
   "cell_type": "code",
   "execution_count": 117,
   "id": "0a75a5f3-43eb-446c-a35e-ea59ec7faaa5",
   "metadata": {},
   "outputs": [
    {
     "name": "stdout",
     "output_type": "stream",
     "text": [
      "---Q1--- \n",
      " Date      2016-07-26 00:00:00\n",
      "Open               606.396973\n",
      "High               609.260986\n",
      "Low                604.109985\n",
      "Volume             79910800.0\n",
      "Close              606.718994\n",
      "Name: 0.25, dtype: object\n",
      "\n",
      "---Q3--- \n",
      " Date      2020-04-12 00:00:00\n",
      "Open             10452.399414\n",
      "High             10762.644531\n",
      "Low              10202.387695\n",
      "Volume          24569921549.0\n",
      "Close            10462.259766\n",
      "Name: 0.75, dtype: object\n",
      "\n",
      "---IQR---\n",
      " Date      1356 days 00:00:00\n",
      "Open             9846.002441\n",
      "High            10153.383545\n",
      "Low               9598.27771\n",
      "Volume         24490010749.0\n",
      "Close            9855.540772\n",
      "dtype: object\n"
     ]
    }
   ],
   "source": [
    "#outlier remove\n",
    "\n",
    "Q1=data.quantile(0.25)\n",
    "Q3=data.quantile(0.75)\n",
    "IQR=Q3-Q1\n",
    "\n",
    "print(\"---Q1--- \\n\",Q1)\n",
    "print(\"\\n---Q3--- \\n\",Q3)\n",
    "print(\"\\n---IQR---\\n\",IQR)"
   ]
  },
  {
   "cell_type": "code",
   "execution_count": 118,
   "id": "0d67726c-7455-43d7-92db-aef14521ebf2",
   "metadata": {},
   "outputs": [
    {
     "data": {
      "text/plain": [
       "((2713, 6), (2285, 6))"
      ]
     },
     "execution_count": 118,
     "metadata": {},
     "output_type": "execute_result"
    }
   ],
   "source": [
    "#outlier remove\n",
    "data_out = data[~((data < (Q1 - 1.5 * IQR)) |(data > (Q3 + 1.5 * IQR))).any(axis=1)]\n",
    "data.shape,data_out.shape"
   ]
  },
  {
   "cell_type": "code",
   "execution_count": 119,
   "id": "d247de0e-e450-432b-a87c-efc49bf833af",
   "metadata": {},
   "outputs": [
    {
     "data": {
      "text/plain": [
       "(Timestamp('2014-09-17 00:00:00'), Timestamp('2022-02-19 00:00:00'))"
      ]
     },
     "execution_count": 119,
     "metadata": {},
     "output_type": "execute_result"
    }
   ],
   "source": [
    "data['Date'].min(), data['Date'].max()"
   ]
  },
  {
   "cell_type": "code",
   "execution_count": null,
   "id": "f146a525-bcd1-4341-a6e7-bbb937192097",
   "metadata": {},
   "outputs": [],
   "source": []
  },
  {
   "cell_type": "markdown",
   "id": "dfd9b285-258f-48cb-9916-4f814ca47552",
   "metadata": {},
   "source": [
    "SPLITTING THE DATA INTO TEST AND TRAIN SET"
   ]
  },
  {
   "cell_type": "code",
   "execution_count": 120,
   "id": "063a2d2b-49f1-48da-b28c-7314ecd3cec8",
   "metadata": {},
   "outputs": [],
   "source": [
    "train_data = data.loc[data['Date'] < '2020-09-01'].copy()\n",
    "test_data = data.loc[data['Date'] >= '2020-09-01'].copy()"
   ]
  },
  {
   "cell_type": "code",
   "execution_count": 121,
   "id": "bf4ed37c-af27-48a7-bd0e-55c10da0d4d7",
   "metadata": {},
   "outputs": [
    {
     "name": "stdout",
     "output_type": "stream",
     "text": [
      "Train Data Shape:  (2176, 6)\n",
      "Test Data Shape:  (537, 6)\n"
     ]
    }
   ],
   "source": [
    "print('Train Data Shape: ', train_data.shape)\n",
    "print('Test Data Shape: ', test_data.shape)"
   ]
  },
  {
   "cell_type": "code",
   "execution_count": null,
   "id": "a8f983ad-77cc-4ad6-8dde-344bb2df0622",
   "metadata": {},
   "outputs": [],
   "source": []
  },
  {
   "cell_type": "code",
   "execution_count": null,
   "id": "6a481ac7-8448-49cb-abe2-18fe0fe0e5d3",
   "metadata": {},
   "outputs": [],
   "source": []
  },
  {
   "cell_type": "markdown",
   "id": "d76f5c8e-932f-45ea-9be8-93de18ea3ed1",
   "metadata": {},
   "source": [
    "MODEL BUILDING"
   ]
  },
  {
   "cell_type": "code",
   "execution_count": 143,
   "id": "251547a5-bfe0-4f5d-a324-57b46a68f106",
   "metadata": {},
   "outputs": [],
   "source": [
    "from sklearn.linear_model import LinearRegression\n",
    "regression = LinearRegression()"
   ]
  },
  {
   "cell_type": "code",
   "execution_count": 144,
   "id": "39a98c19-3ec8-4998-b386-88394857dfb3",
   "metadata": {},
   "outputs": [
    {
     "data": {
      "text/plain": [
       "Index(['Date', 'Open', 'High', 'Low', 'Volume', 'Close'], dtype='object')"
      ]
     },
     "execution_count": 144,
     "metadata": {},
     "output_type": "execute_result"
    }
   ],
   "source": [
    "train_data.columns"
   ]
  },
  {
   "cell_type": "code",
   "execution_count": null,
   "id": "463e6867-ed59-44bc-90ca-8d10f1e79c1a",
   "metadata": {},
   "outputs": [],
   "source": []
  },
  {
   "cell_type": "markdown",
   "id": "2319aba4-2ace-4cf3-adb2-7327aa0ef144",
   "metadata": {},
   "source": [
    "FITTING THE MODEL"
   ]
  },
  {
   "cell_type": "code",
   "execution_count": 145,
   "id": "3e656211-7d33-4970-aa79-75b6029e2882",
   "metadata": {},
   "outputs": [
    {
     "data": {
      "text/html": [
       "<style>#sk-container-id-7 {color: black;background-color: white;}#sk-container-id-7 pre{padding: 0;}#sk-container-id-7 div.sk-toggleable {background-color: white;}#sk-container-id-7 label.sk-toggleable__label {cursor: pointer;display: block;width: 100%;margin-bottom: 0;padding: 0.3em;box-sizing: border-box;text-align: center;}#sk-container-id-7 label.sk-toggleable__label-arrow:before {content: \"▸\";float: left;margin-right: 0.25em;color: #696969;}#sk-container-id-7 label.sk-toggleable__label-arrow:hover:before {color: black;}#sk-container-id-7 div.sk-estimator:hover label.sk-toggleable__label-arrow:before {color: black;}#sk-container-id-7 div.sk-toggleable__content {max-height: 0;max-width: 0;overflow: hidden;text-align: left;background-color: #f0f8ff;}#sk-container-id-7 div.sk-toggleable__content pre {margin: 0.2em;color: black;border-radius: 0.25em;background-color: #f0f8ff;}#sk-container-id-7 input.sk-toggleable__control:checked~div.sk-toggleable__content {max-height: 200px;max-width: 100%;overflow: auto;}#sk-container-id-7 input.sk-toggleable__control:checked~label.sk-toggleable__label-arrow:before {content: \"▾\";}#sk-container-id-7 div.sk-estimator input.sk-toggleable__control:checked~label.sk-toggleable__label {background-color: #d4ebff;}#sk-container-id-7 div.sk-label input.sk-toggleable__control:checked~label.sk-toggleable__label {background-color: #d4ebff;}#sk-container-id-7 input.sk-hidden--visually {border: 0;clip: rect(1px 1px 1px 1px);clip: rect(1px, 1px, 1px, 1px);height: 1px;margin: -1px;overflow: hidden;padding: 0;position: absolute;width: 1px;}#sk-container-id-7 div.sk-estimator {font-family: monospace;background-color: #f0f8ff;border: 1px dotted black;border-radius: 0.25em;box-sizing: border-box;margin-bottom: 0.5em;}#sk-container-id-7 div.sk-estimator:hover {background-color: #d4ebff;}#sk-container-id-7 div.sk-parallel-item::after {content: \"\";width: 100%;border-bottom: 1px solid gray;flex-grow: 1;}#sk-container-id-7 div.sk-label:hover label.sk-toggleable__label {background-color: #d4ebff;}#sk-container-id-7 div.sk-serial::before {content: \"\";position: absolute;border-left: 1px solid gray;box-sizing: border-box;top: 0;bottom: 0;left: 50%;z-index: 0;}#sk-container-id-7 div.sk-serial {display: flex;flex-direction: column;align-items: center;background-color: white;padding-right: 0.2em;padding-left: 0.2em;position: relative;}#sk-container-id-7 div.sk-item {position: relative;z-index: 1;}#sk-container-id-7 div.sk-parallel {display: flex;align-items: stretch;justify-content: center;background-color: white;position: relative;}#sk-container-id-7 div.sk-item::before, #sk-container-id-7 div.sk-parallel-item::before {content: \"\";position: absolute;border-left: 1px solid gray;box-sizing: border-box;top: 0;bottom: 0;left: 50%;z-index: -1;}#sk-container-id-7 div.sk-parallel-item {display: flex;flex-direction: column;z-index: 1;position: relative;background-color: white;}#sk-container-id-7 div.sk-parallel-item:first-child::after {align-self: flex-end;width: 50%;}#sk-container-id-7 div.sk-parallel-item:last-child::after {align-self: flex-start;width: 50%;}#sk-container-id-7 div.sk-parallel-item:only-child::after {width: 0;}#sk-container-id-7 div.sk-dashed-wrapped {border: 1px dashed gray;margin: 0 0.4em 0.5em 0.4em;box-sizing: border-box;padding-bottom: 0.4em;background-color: white;}#sk-container-id-7 div.sk-label label {font-family: monospace;font-weight: bold;display: inline-block;line-height: 1.2em;}#sk-container-id-7 div.sk-label-container {text-align: center;}#sk-container-id-7 div.sk-container {/* jupyter's `normalize.less` sets `[hidden] { display: none; }` but bootstrap.min.css set `[hidden] { display: none !important; }` so we also need the `!important` here to be able to override the default hidden behavior on the sphinx rendered scikit-learn.org. See: https://github.com/scikit-learn/scikit-learn/issues/21755 */display: inline-block !important;position: relative;}#sk-container-id-7 div.sk-text-repr-fallback {display: none;}</style><div id=\"sk-container-id-7\" class=\"sk-top-container\"><div class=\"sk-text-repr-fallback\"><pre>LinearRegression()</pre><b>In a Jupyter environment, please rerun this cell to show the HTML representation or trust the notebook. <br />On GitHub, the HTML representation is unable to render, please try loading this page with nbviewer.org.</b></div><div class=\"sk-container\" hidden><div class=\"sk-item\"><div class=\"sk-estimator sk-toggleable\"><input class=\"sk-toggleable__control sk-hidden--visually\" id=\"sk-estimator-id-7\" type=\"checkbox\" checked><label for=\"sk-estimator-id-7\" class=\"sk-toggleable__label sk-toggleable__label-arrow\">LinearRegression</label><div class=\"sk-toggleable__content\"><pre>LinearRegression()</pre></div></div></div></div></div>"
      ],
      "text/plain": [
       "LinearRegression()"
      ]
     },
     "execution_count": 145,
     "metadata": {},
     "output_type": "execute_result"
    }
   ],
   "source": [
    "predictors = ['Open', 'High', 'Low', 'Volume']\n",
    "target = 'Close'\n",
    "\n",
    "regression.fit(train_data[predictors], train_data[target])"
   ]
  },
  {
   "cell_type": "code",
   "execution_count": 146,
   "id": "437fef41-d1a9-4f60-9ccb-b30ee00e3ea6",
   "metadata": {},
   "outputs": [
    {
     "data": {
      "text/plain": [
       "0.9993745607069814"
      ]
     },
     "execution_count": 146,
     "metadata": {},
     "output_type": "execute_result"
    }
   ],
   "source": [
    "regression.score(train_data[predictors], train_data[target])"
   ]
  },
  {
   "cell_type": "code",
   "execution_count": 147,
   "id": "052ea12a-9763-4260-bdb9-5a6ae9671be1",
   "metadata": {},
   "outputs": [],
   "source": [
    "Predictions = regression.predict(test_data[predictors])"
   ]
  },
  {
   "cell_type": "code",
   "execution_count": 148,
   "id": "4363931c-1ad4-4772-8f95-56f99c4e940a",
   "metadata": {},
   "outputs": [
    {
     "data": {
      "text/html": [
       "<div>\n",
       "<style scoped>\n",
       "    .dataframe tbody tr th:only-of-type {\n",
       "        vertical-align: middle;\n",
       "    }\n",
       "\n",
       "    .dataframe tbody tr th {\n",
       "        vertical-align: top;\n",
       "    }\n",
       "\n",
       "    .dataframe thead th {\n",
       "        text-align: right;\n",
       "    }\n",
       "</style>\n",
       "<table border=\"1\" class=\"dataframe\">\n",
       "  <thead>\n",
       "    <tr style=\"text-align: right;\">\n",
       "      <th></th>\n",
       "      <th>Date</th>\n",
       "      <th>Open</th>\n",
       "      <th>High</th>\n",
       "      <th>Low</th>\n",
       "      <th>Volume</th>\n",
       "      <th>Close</th>\n",
       "      <th>Prediction</th>\n",
       "      <th>Error</th>\n",
       "    </tr>\n",
       "  </thead>\n",
       "  <tbody>\n",
       "    <tr>\n",
       "      <th>2176</th>\n",
       "      <td>2020-09-01</td>\n",
       "      <td>11679.316406</td>\n",
       "      <td>12067.081055</td>\n",
       "      <td>11601.128906</td>\n",
       "      <td>27311555343</td>\n",
       "      <td>11970.478516</td>\n",
       "      <td>11929.445250</td>\n",
       "      <td>41.033266</td>\n",
       "    </tr>\n",
       "    <tr>\n",
       "      <th>2177</th>\n",
       "      <td>2020-09-02</td>\n",
       "      <td>11964.823242</td>\n",
       "      <td>11964.823242</td>\n",
       "      <td>11290.793945</td>\n",
       "      <td>28037405299</td>\n",
       "      <td>11414.034180</td>\n",
       "      <td>11477.332687</td>\n",
       "      <td>-63.298507</td>\n",
       "    </tr>\n",
       "    <tr>\n",
       "      <th>2178</th>\n",
       "      <td>2020-09-03</td>\n",
       "      <td>11407.191406</td>\n",
       "      <td>11443.022461</td>\n",
       "      <td>10182.464844</td>\n",
       "      <td>31927261555</td>\n",
       "      <td>10245.296875</td>\n",
       "      <td>10584.204673</td>\n",
       "      <td>-338.907798</td>\n",
       "    </tr>\n",
       "    <tr>\n",
       "      <th>2179</th>\n",
       "      <td>2020-09-04</td>\n",
       "      <td>10230.365234</td>\n",
       "      <td>10663.919922</td>\n",
       "      <td>10207.940430</td>\n",
       "      <td>29965130374</td>\n",
       "      <td>10511.813477</td>\n",
       "      <td>10559.495448</td>\n",
       "      <td>-47.681971</td>\n",
       "    </tr>\n",
       "    <tr>\n",
       "      <th>2180</th>\n",
       "      <td>2020-09-05</td>\n",
       "      <td>10512.530273</td>\n",
       "      <td>10581.571289</td>\n",
       "      <td>9946.675781</td>\n",
       "      <td>44916565292</td>\n",
       "      <td>10169.567383</td>\n",
       "      <td>10152.612231</td>\n",
       "      <td>16.955152</td>\n",
       "    </tr>\n",
       "    <tr>\n",
       "      <th>...</th>\n",
       "      <td>...</td>\n",
       "      <td>...</td>\n",
       "      <td>...</td>\n",
       "      <td>...</td>\n",
       "      <td>...</td>\n",
       "      <td>...</td>\n",
       "      <td>...</td>\n",
       "      <td>...</td>\n",
       "    </tr>\n",
       "    <tr>\n",
       "      <th>2708</th>\n",
       "      <td>2022-02-15</td>\n",
       "      <td>42586.464844</td>\n",
       "      <td>44667.218750</td>\n",
       "      <td>42491.035156</td>\n",
       "      <td>22721659051</td>\n",
       "      <td>44575.203125</td>\n",
       "      <td>44250.218921</td>\n",
       "      <td>324.984204</td>\n",
       "    </tr>\n",
       "    <tr>\n",
       "      <th>2709</th>\n",
       "      <td>2022-02-16</td>\n",
       "      <td>44578.277344</td>\n",
       "      <td>44578.277344</td>\n",
       "      <td>43456.691406</td>\n",
       "      <td>19792547657</td>\n",
       "      <td>43961.859375</td>\n",
       "      <td>43730.216666</td>\n",
       "      <td>231.642709</td>\n",
       "    </tr>\n",
       "    <tr>\n",
       "      <th>2710</th>\n",
       "      <td>2022-02-17</td>\n",
       "      <td>43937.070313</td>\n",
       "      <td>44132.972656</td>\n",
       "      <td>40249.371094</td>\n",
       "      <td>26246662813</td>\n",
       "      <td>40538.011719</td>\n",
       "      <td>41552.577776</td>\n",
       "      <td>-1014.566057</td>\n",
       "    </tr>\n",
       "    <tr>\n",
       "      <th>2711</th>\n",
       "      <td>2022-02-18</td>\n",
       "      <td>40552.132813</td>\n",
       "      <td>40929.152344</td>\n",
       "      <td>39637.617188</td>\n",
       "      <td>23310007704</td>\n",
       "      <td>40030.976563</td>\n",
       "      <td>40179.353953</td>\n",
       "      <td>-148.377390</td>\n",
       "    </tr>\n",
       "    <tr>\n",
       "      <th>2712</th>\n",
       "      <td>2022-02-19</td>\n",
       "      <td>40022.132813</td>\n",
       "      <td>40246.027344</td>\n",
       "      <td>40010.867188</td>\n",
       "      <td>22263900160</td>\n",
       "      <td>40126.429688</td>\n",
       "      <td>40117.245147</td>\n",
       "      <td>9.184541</td>\n",
       "    </tr>\n",
       "  </tbody>\n",
       "</table>\n",
       "<p>537 rows × 8 columns</p>\n",
       "</div>"
      ],
      "text/plain": [
       "           Date          Open          High           Low       Volume  \\\n",
       "2176 2020-09-01  11679.316406  12067.081055  11601.128906  27311555343   \n",
       "2177 2020-09-02  11964.823242  11964.823242  11290.793945  28037405299   \n",
       "2178 2020-09-03  11407.191406  11443.022461  10182.464844  31927261555   \n",
       "2179 2020-09-04  10230.365234  10663.919922  10207.940430  29965130374   \n",
       "2180 2020-09-05  10512.530273  10581.571289   9946.675781  44916565292   \n",
       "...         ...           ...           ...           ...          ...   \n",
       "2708 2022-02-15  42586.464844  44667.218750  42491.035156  22721659051   \n",
       "2709 2022-02-16  44578.277344  44578.277344  43456.691406  19792547657   \n",
       "2710 2022-02-17  43937.070313  44132.972656  40249.371094  26246662813   \n",
       "2711 2022-02-18  40552.132813  40929.152344  39637.617188  23310007704   \n",
       "2712 2022-02-19  40022.132813  40246.027344  40010.867188  22263900160   \n",
       "\n",
       "             Close    Prediction        Error  \n",
       "2176  11970.478516  11929.445250    41.033266  \n",
       "2177  11414.034180  11477.332687   -63.298507  \n",
       "2178  10245.296875  10584.204673  -338.907798  \n",
       "2179  10511.813477  10559.495448   -47.681971  \n",
       "2180  10169.567383  10152.612231    16.955152  \n",
       "...            ...           ...          ...  \n",
       "2708  44575.203125  44250.218921   324.984204  \n",
       "2709  43961.859375  43730.216666   231.642709  \n",
       "2710  40538.011719  41552.577776 -1014.566057  \n",
       "2711  40030.976563  40179.353953  -148.377390  \n",
       "2712  40126.429688  40117.245147     9.184541  \n",
       "\n",
       "[537 rows x 8 columns]"
      ]
     },
     "execution_count": 148,
     "metadata": {},
     "output_type": "execute_result"
    }
   ],
   "source": [
    "test_data"
   ]
  },
  {
   "cell_type": "code",
   "execution_count": 149,
   "id": "220459dc-cf16-472f-8624-02c4582ce001",
   "metadata": {},
   "outputs": [],
   "source": [
    "test_data['Prediction'] = Predictions"
   ]
  },
  {
   "cell_type": "code",
   "execution_count": 150,
   "id": "0100603c-63cf-4544-8bec-8e9608cc9a26",
   "metadata": {},
   "outputs": [],
   "source": [
    "error = test_data['Close'] - test_data['Prediction']"
   ]
  },
  {
   "cell_type": "code",
   "execution_count": 151,
   "id": "660a1997-ca61-4eb0-9615-52b8464e9540",
   "metadata": {},
   "outputs": [
    {
     "data": {
      "text/html": [
       "<div>\n",
       "<style scoped>\n",
       "    .dataframe tbody tr th:only-of-type {\n",
       "        vertical-align: middle;\n",
       "    }\n",
       "\n",
       "    .dataframe tbody tr th {\n",
       "        vertical-align: top;\n",
       "    }\n",
       "\n",
       "    .dataframe thead th {\n",
       "        text-align: right;\n",
       "    }\n",
       "</style>\n",
       "<table border=\"1\" class=\"dataframe\">\n",
       "  <thead>\n",
       "    <tr style=\"text-align: right;\">\n",
       "      <th></th>\n",
       "      <th>Date</th>\n",
       "      <th>Open</th>\n",
       "      <th>High</th>\n",
       "      <th>Low</th>\n",
       "      <th>Volume</th>\n",
       "      <th>Close</th>\n",
       "      <th>Prediction</th>\n",
       "      <th>Error</th>\n",
       "    </tr>\n",
       "  </thead>\n",
       "  <tbody>\n",
       "    <tr>\n",
       "      <th>2703</th>\n",
       "      <td>2022-02-10</td>\n",
       "      <td>44347.800781</td>\n",
       "      <td>45661.171875</td>\n",
       "      <td>43402.808594</td>\n",
       "      <td>32142048537</td>\n",
       "      <td>43565.113281</td>\n",
       "      <td>44764.812744</td>\n",
       "      <td>-1199.699463</td>\n",
       "    </tr>\n",
       "    <tr>\n",
       "      <th>2704</th>\n",
       "      <td>2022-02-11</td>\n",
       "      <td>43571.128906</td>\n",
       "      <td>43810.832031</td>\n",
       "      <td>42114.539063</td>\n",
       "      <td>26954925781</td>\n",
       "      <td>42407.937500</td>\n",
       "      <td>42709.377899</td>\n",
       "      <td>-301.440399</td>\n",
       "    </tr>\n",
       "    <tr>\n",
       "      <th>2705</th>\n",
       "      <td>2022-02-12</td>\n",
       "      <td>42412.300781</td>\n",
       "      <td>42992.550781</td>\n",
       "      <td>41852.574219</td>\n",
       "      <td>18152390304</td>\n",
       "      <td>42244.468750</td>\n",
       "      <td>42452.518188</td>\n",
       "      <td>-208.049438</td>\n",
       "    </tr>\n",
       "    <tr>\n",
       "      <th>2706</th>\n",
       "      <td>2022-02-13</td>\n",
       "      <td>42236.566406</td>\n",
       "      <td>42693.054688</td>\n",
       "      <td>41950.941406</td>\n",
       "      <td>14741589015</td>\n",
       "      <td>42197.515625</td>\n",
       "      <td>42352.404961</td>\n",
       "      <td>-154.889336</td>\n",
       "    </tr>\n",
       "    <tr>\n",
       "      <th>2707</th>\n",
       "      <td>2022-02-14</td>\n",
       "      <td>42157.398438</td>\n",
       "      <td>42775.777344</td>\n",
       "      <td>41681.957031</td>\n",
       "      <td>20827783012</td>\n",
       "      <td>42586.917969</td>\n",
       "      <td>42286.405788</td>\n",
       "      <td>300.512181</td>\n",
       "    </tr>\n",
       "    <tr>\n",
       "      <th>2708</th>\n",
       "      <td>2022-02-15</td>\n",
       "      <td>42586.464844</td>\n",
       "      <td>44667.218750</td>\n",
       "      <td>42491.035156</td>\n",
       "      <td>22721659051</td>\n",
       "      <td>44575.203125</td>\n",
       "      <td>44250.218921</td>\n",
       "      <td>324.984204</td>\n",
       "    </tr>\n",
       "    <tr>\n",
       "      <th>2709</th>\n",
       "      <td>2022-02-16</td>\n",
       "      <td>44578.277344</td>\n",
       "      <td>44578.277344</td>\n",
       "      <td>43456.691406</td>\n",
       "      <td>19792547657</td>\n",
       "      <td>43961.859375</td>\n",
       "      <td>43730.216666</td>\n",
       "      <td>231.642709</td>\n",
       "    </tr>\n",
       "    <tr>\n",
       "      <th>2710</th>\n",
       "      <td>2022-02-17</td>\n",
       "      <td>43937.070313</td>\n",
       "      <td>44132.972656</td>\n",
       "      <td>40249.371094</td>\n",
       "      <td>26246662813</td>\n",
       "      <td>40538.011719</td>\n",
       "      <td>41552.577776</td>\n",
       "      <td>-1014.566057</td>\n",
       "    </tr>\n",
       "    <tr>\n",
       "      <th>2711</th>\n",
       "      <td>2022-02-18</td>\n",
       "      <td>40552.132813</td>\n",
       "      <td>40929.152344</td>\n",
       "      <td>39637.617188</td>\n",
       "      <td>23310007704</td>\n",
       "      <td>40030.976563</td>\n",
       "      <td>40179.353953</td>\n",
       "      <td>-148.377390</td>\n",
       "    </tr>\n",
       "    <tr>\n",
       "      <th>2712</th>\n",
       "      <td>2022-02-19</td>\n",
       "      <td>40022.132813</td>\n",
       "      <td>40246.027344</td>\n",
       "      <td>40010.867188</td>\n",
       "      <td>22263900160</td>\n",
       "      <td>40126.429688</td>\n",
       "      <td>40117.245147</td>\n",
       "      <td>9.184541</td>\n",
       "    </tr>\n",
       "  </tbody>\n",
       "</table>\n",
       "</div>"
      ],
      "text/plain": [
       "           Date          Open          High           Low       Volume  \\\n",
       "2703 2022-02-10  44347.800781  45661.171875  43402.808594  32142048537   \n",
       "2704 2022-02-11  43571.128906  43810.832031  42114.539063  26954925781   \n",
       "2705 2022-02-12  42412.300781  42992.550781  41852.574219  18152390304   \n",
       "2706 2022-02-13  42236.566406  42693.054688  41950.941406  14741589015   \n",
       "2707 2022-02-14  42157.398438  42775.777344  41681.957031  20827783012   \n",
       "2708 2022-02-15  42586.464844  44667.218750  42491.035156  22721659051   \n",
       "2709 2022-02-16  44578.277344  44578.277344  43456.691406  19792547657   \n",
       "2710 2022-02-17  43937.070313  44132.972656  40249.371094  26246662813   \n",
       "2711 2022-02-18  40552.132813  40929.152344  39637.617188  23310007704   \n",
       "2712 2022-02-19  40022.132813  40246.027344  40010.867188  22263900160   \n",
       "\n",
       "             Close    Prediction        Error  \n",
       "2703  43565.113281  44764.812744 -1199.699463  \n",
       "2704  42407.937500  42709.377899  -301.440399  \n",
       "2705  42244.468750  42452.518188  -208.049438  \n",
       "2706  42197.515625  42352.404961  -154.889336  \n",
       "2707  42586.917969  42286.405788   300.512181  \n",
       "2708  44575.203125  44250.218921   324.984204  \n",
       "2709  43961.859375  43730.216666   231.642709  \n",
       "2710  40538.011719  41552.577776 -1014.566057  \n",
       "2711  40030.976563  40179.353953  -148.377390  \n",
       "2712  40126.429688  40117.245147     9.184541  "
      ]
     },
     "execution_count": 151,
     "metadata": {},
     "output_type": "execute_result"
    }
   ],
   "source": [
    "test_data.tail(10)"
   ]
  },
  {
   "cell_type": "code",
   "execution_count": 152,
   "id": "9d3452ba-969c-4dd8-87c4-d9b56df318a1",
   "metadata": {},
   "outputs": [],
   "source": [
    "test_data['Error'] = error"
   ]
  },
  {
   "cell_type": "code",
   "execution_count": 153,
   "id": "0b71ce06-15a9-45d8-a3a2-7c28de143ea8",
   "metadata": {},
   "outputs": [
    {
     "data": {
      "text/html": [
       "<div>\n",
       "<style scoped>\n",
       "    .dataframe tbody tr th:only-of-type {\n",
       "        vertical-align: middle;\n",
       "    }\n",
       "\n",
       "    .dataframe tbody tr th {\n",
       "        vertical-align: top;\n",
       "    }\n",
       "\n",
       "    .dataframe thead th {\n",
       "        text-align: right;\n",
       "    }\n",
       "</style>\n",
       "<table border=\"1\" class=\"dataframe\">\n",
       "  <thead>\n",
       "    <tr style=\"text-align: right;\">\n",
       "      <th></th>\n",
       "      <th>Date</th>\n",
       "      <th>Open</th>\n",
       "      <th>High</th>\n",
       "      <th>Low</th>\n",
       "      <th>Volume</th>\n",
       "      <th>Close</th>\n",
       "      <th>Prediction</th>\n",
       "      <th>Error</th>\n",
       "    </tr>\n",
       "  </thead>\n",
       "  <tbody>\n",
       "    <tr>\n",
       "      <th>2708</th>\n",
       "      <td>2022-02-15</td>\n",
       "      <td>42586.464844</td>\n",
       "      <td>44667.218750</td>\n",
       "      <td>42491.035156</td>\n",
       "      <td>22721659051</td>\n",
       "      <td>44575.203125</td>\n",
       "      <td>44250.218921</td>\n",
       "      <td>324.984204</td>\n",
       "    </tr>\n",
       "    <tr>\n",
       "      <th>2709</th>\n",
       "      <td>2022-02-16</td>\n",
       "      <td>44578.277344</td>\n",
       "      <td>44578.277344</td>\n",
       "      <td>43456.691406</td>\n",
       "      <td>19792547657</td>\n",
       "      <td>43961.859375</td>\n",
       "      <td>43730.216666</td>\n",
       "      <td>231.642709</td>\n",
       "    </tr>\n",
       "    <tr>\n",
       "      <th>2710</th>\n",
       "      <td>2022-02-17</td>\n",
       "      <td>43937.070313</td>\n",
       "      <td>44132.972656</td>\n",
       "      <td>40249.371094</td>\n",
       "      <td>26246662813</td>\n",
       "      <td>40538.011719</td>\n",
       "      <td>41552.577776</td>\n",
       "      <td>-1014.566057</td>\n",
       "    </tr>\n",
       "    <tr>\n",
       "      <th>2711</th>\n",
       "      <td>2022-02-18</td>\n",
       "      <td>40552.132813</td>\n",
       "      <td>40929.152344</td>\n",
       "      <td>39637.617188</td>\n",
       "      <td>23310007704</td>\n",
       "      <td>40030.976563</td>\n",
       "      <td>40179.353953</td>\n",
       "      <td>-148.377390</td>\n",
       "    </tr>\n",
       "    <tr>\n",
       "      <th>2712</th>\n",
       "      <td>2022-02-19</td>\n",
       "      <td>40022.132813</td>\n",
       "      <td>40246.027344</td>\n",
       "      <td>40010.867188</td>\n",
       "      <td>22263900160</td>\n",
       "      <td>40126.429688</td>\n",
       "      <td>40117.245147</td>\n",
       "      <td>9.184541</td>\n",
       "    </tr>\n",
       "  </tbody>\n",
       "</table>\n",
       "</div>"
      ],
      "text/plain": [
       "           Date          Open          High           Low       Volume  \\\n",
       "2708 2022-02-15  42586.464844  44667.218750  42491.035156  22721659051   \n",
       "2709 2022-02-16  44578.277344  44578.277344  43456.691406  19792547657   \n",
       "2710 2022-02-17  43937.070313  44132.972656  40249.371094  26246662813   \n",
       "2711 2022-02-18  40552.132813  40929.152344  39637.617188  23310007704   \n",
       "2712 2022-02-19  40022.132813  40246.027344  40010.867188  22263900160   \n",
       "\n",
       "             Close    Prediction        Error  \n",
       "2708  44575.203125  44250.218921   324.984204  \n",
       "2709  43961.859375  43730.216666   231.642709  \n",
       "2710  40538.011719  41552.577776 -1014.566057  \n",
       "2711  40030.976563  40179.353953  -148.377390  \n",
       "2712  40126.429688  40117.245147     9.184541  "
      ]
     },
     "execution_count": 153,
     "metadata": {},
     "output_type": "execute_result"
    }
   ],
   "source": [
    "test_data.tail(5)"
   ]
  },
  {
   "cell_type": "code",
   "execution_count": 154,
   "id": "ec5aab97-4a31-4801-b640-e188315ed6b9",
   "metadata": {},
   "outputs": [
    {
     "name": "stdout",
     "output_type": "stream",
     "text": [
      "Mean Absolute Error:  490.72621321820253\n",
      "Mean Squared Error:  495287.74853295804\n"
     ]
    }
   ],
   "source": [
    "from sklearn.metrics import mean_absolute_error, mean_squared_error\n",
    "\n",
    "print('Mean Absolute Error: ', mean_absolute_error(test_data['Close'], test_data['Prediction']))\n",
    "print('Mean Squared Error: ', mean_squared_error(test_data['Close'], test_data['Prediction']))"
   ]
  },
  {
   "cell_type": "code",
   "execution_count": 155,
   "id": "656d5e88-7b68-4269-82ca-e2ab1dad37de",
   "metadata": {},
   "outputs": [
    {
     "data": {
      "text/plain": [
       "<matplotlib.collections.PathCollection at 0x17a074c50>"
      ]
     },
     "execution_count": 155,
     "metadata": {},
     "output_type": "execute_result"
    },
    {
     "data": {
      "image/png": "[encoded data removed]",
      "text/plain": [
       "<Figure size 400x200 with 1 Axes>"
      ]
     },
     "metadata": {},
     "output_type": "display_data"
    }
   ],
   "source": [
    "plt.scatter(test_data['Prediction'], error)"
   ]
  },
  {
   "cell_type": "markdown",
   "id": "5a6e5aba-9768-44c4-9e69-c461a47ea901",
   "metadata": {},
   "source": [
    "CLASSIFICATION"
   ]
  },
  {
   "cell_type": "code",
   "execution_count": 156,
   "id": "e0e0dbf7-f193-4059-a37b-c97a2d8354eb",
   "metadata": {},
   "outputs": [],
   "source": [
    "from sklearn.ensemble import RandomForestClassifier\n"
   ]
  },
  {
   "cell_type": "code",
   "execution_count": 157,
   "id": "18e59f0e-90d4-455a-89f0-402f4fb6ba4b",
   "metadata": {},
   "outputs": [],
   "source": [
    "# Feature engineering\n",
    "# Let's create some basic features for demonstration purposes\n",
    "data['PriceChange'] = data['Close'] - data['Open']\n",
    "data['PriceDirection'] = (data['PriceChange'] > 0).astype(int)  # 1 if price went up, 0 if price went down"
   ]
  },
  {
   "cell_type": "code",
   "execution_count": 158,
   "id": "e90d832e-bf67-4f6b-8986-2eb1fe0a6138",
   "metadata": {},
   "outputs": [],
   "source": [
    "# Select features\n",
    "features = ['Volume', 'PriceChange'] "
   ]
  },
  {
   "cell_type": "code",
   "execution_count": 159,
   "id": "5cc22d53-cf32-460b-8b6e-1ec8c52c7ba3",
   "metadata": {},
   "outputs": [],
   "source": [
    "# Split data into train and test sets\n",
    "X = data[features]\n",
    "y = data['PriceDirection']\n",
    "X_train, X_test, y_train, y_test = train_test_split(X, y, test_size=0.2, random_state=42)"
   ]
  },
  {
   "cell_type": "code",
   "execution_count": 160,
   "id": "63db689d-dfb4-4859-a699-a6edcf92363d",
   "metadata": {},
   "outputs": [
    {
     "data": {
      "text/html": [
       "<style>#sk-container-id-8 {color: black;background-color: white;}#sk-container-id-8 pre{padding: 0;}#sk-container-id-8 div.sk-toggleable {background-color: white;}#sk-container-id-8 label.sk-toggleable__label {cursor: pointer;display: block;width: 100%;margin-bottom: 0;padding: 0.3em;box-sizing: border-box;text-align: center;}#sk-container-id-8 label.sk-toggleable__label-arrow:before {content: \"▸\";float: left;margin-right: 0.25em;color: #696969;}#sk-container-id-8 label.sk-toggleable__label-arrow:hover:before {color: black;}#sk-container-id-8 div.sk-estimator:hover label.sk-toggleable__label-arrow:before {color: black;}#sk-container-id-8 div.sk-toggleable__content {max-height: 0;max-width: 0;overflow: hidden;text-align: left;background-color: #f0f8ff;}#sk-container-id-8 div.sk-toggleable__content pre {margin: 0.2em;color: black;border-radius: 0.25em;background-color: #f0f8ff;}#sk-container-id-8 input.sk-toggleable__control:checked~div.sk-toggleable__content {max-height: 200px;max-width: 100%;overflow: auto;}#sk-container-id-8 input.sk-toggleable__control:checked~label.sk-toggleable__label-arrow:before {content: \"▾\";}#sk-container-id-8 div.sk-estimator input.sk-toggleable__control:checked~label.sk-toggleable__label {background-color: #d4ebff;}#sk-container-id-8 div.sk-label input.sk-toggleable__control:checked~label.sk-toggleable__label {background-color: #d4ebff;}#sk-container-id-8 input.sk-hidden--visually {border: 0;clip: rect(1px 1px 1px 1px);clip: rect(1px, 1px, 1px, 1px);height: 1px;margin: -1px;overflow: hidden;padding: 0;position: absolute;width: 1px;}#sk-container-id-8 div.sk-estimator {font-family: monospace;background-color: #f0f8ff;border: 1px dotted black;border-radius: 0.25em;box-sizing: border-box;margin-bottom: 0.5em;}#sk-container-id-8 div.sk-estimator:hover {background-color: #d4ebff;}#sk-container-id-8 div.sk-parallel-item::after {content: \"\";width: 100%;border-bottom: 1px solid gray;flex-grow: 1;}#sk-container-id-8 div.sk-label:hover label.sk-toggleable__label {background-color: #d4ebff;}#sk-container-id-8 div.sk-serial::before {content: \"\";position: absolute;border-left: 1px solid gray;box-sizing: border-box;top: 0;bottom: 0;left: 50%;z-index: 0;}#sk-container-id-8 div.sk-serial {display: flex;flex-direction: column;align-items: center;background-color: white;padding-right: 0.2em;padding-left: 0.2em;position: relative;}#sk-container-id-8 div.sk-item {position: relative;z-index: 1;}#sk-container-id-8 div.sk-parallel {display: flex;align-items: stretch;justify-content: center;background-color: white;position: relative;}#sk-container-id-8 div.sk-item::before, #sk-container-id-8 div.sk-parallel-item::before {content: \"\";position: absolute;border-left: 1px solid gray;box-sizing: border-box;top: 0;bottom: 0;left: 50%;z-index: -1;}#sk-container-id-8 div.sk-parallel-item {display: flex;flex-direction: column;z-index: 1;position: relative;background-color: white;}#sk-container-id-8 div.sk-parallel-item:first-child::after {align-self: flex-end;width: 50%;}#sk-container-id-8 div.sk-parallel-item:last-child::after {align-self: flex-start;width: 50%;}#sk-container-id-8 div.sk-parallel-item:only-child::after {width: 0;}#sk-container-id-8 div.sk-dashed-wrapped {border: 1px dashed gray;margin: 0 0.4em 0.5em 0.4em;box-sizing: border-box;padding-bottom: 0.4em;background-color: white;}#sk-container-id-8 div.sk-label label {font-family: monospace;font-weight: bold;display: inline-block;line-height: 1.2em;}#sk-container-id-8 div.sk-label-container {text-align: center;}#sk-container-id-8 div.sk-container {/* jupyter's `normalize.less` sets `[hidden] { display: none; }` but bootstrap.min.css set `[hidden] { display: none !important; }` so we also need the `!important` here to be able to override the default hidden behavior on the sphinx rendered scikit-learn.org. See: https://github.com/scikit-learn/scikit-learn/issues/21755 */display: inline-block !important;position: relative;}#sk-container-id-8 div.sk-text-repr-fallback {display: none;}</style><div id=\"sk-container-id-8\" class=\"sk-top-container\"><div class=\"sk-text-repr-fallback\"><pre>RandomForestClassifier(random_state=42)</pre><b>In a Jupyter environment, please rerun this cell to show the HTML representation or trust the notebook. <br />On GitHub, the HTML representation is unable to render, please try loading this page with nbviewer.org.</b></div><div class=\"sk-container\" hidden><div class=\"sk-item\"><div class=\"sk-estimator sk-toggleable\"><input class=\"sk-toggleable__control sk-hidden--visually\" id=\"sk-estimator-id-8\" type=\"checkbox\" checked><label for=\"sk-estimator-id-8\" class=\"sk-toggleable__label sk-toggleable__label-arrow\">RandomForestClassifier</label><div class=\"sk-toggleable__content\"><pre>RandomForestClassifier(random_state=42)</pre></div></div></div></div></div>"
      ],
      "text/plain": [
       "RandomForestClassifier(random_state=42)"
      ]
     },
     "execution_count": 160,
     "metadata": {},
     "output_type": "execute_result"
    }
   ],
   "source": [
    "# Initialize and train the model\n",
    "model = RandomForestClassifier(n_estimators=100, random_state=42)\n",
    "model.fit(X_train, y_train)"
   ]
  },
  {
   "cell_type": "code",
   "execution_count": 161,
   "id": "17fec61f-2d5a-4a9c-b22a-f6bf24b13bfb",
   "metadata": {},
   "outputs": [],
   "source": [
    "# Make predictions\n",
    "predictions = model.predict(X_test)"
   ]
  },
  {
   "cell_type": "code",
   "execution_count": 162,
   "id": "333cfc53-9c47-4f3b-893b-e43d80ed1347",
   "metadata": {},
   "outputs": [
    {
     "name": "stdout",
     "output_type": "stream",
     "text": [
      "Accuracy: 0.998158379373849\n"
     ]
    }
   ],
   "source": [
    "# Evaluate the model\n",
    "accuracy = accuracy_score(y_test, predictions)\n",
    "print(f'Accuracy: {accuracy}')"
   ]
  },
  {
   "cell_type": "code",
   "execution_count": null,
   "id": "91aa2205-ffd0-459b-83e0-4f5aad3b0aae",
   "metadata": {},
   "outputs": [],
   "source": []
  },
  {
   "cell_type": "code",
   "execution_count": null,
   "id": "a02c9d42-74fe-46c0-9e67-711cee19ea68",
   "metadata": {},
   "outputs": [],
   "source": []
  }
 ],
 "metadata": {
  "kernelspec": {
   "display_name": "Python 3 (ipykernel)",
   "language": "python",
   "name": "python3"
  },
  "language_info": {
   "codemirror_mode": {
    "name": "ipython",
    "version": 3
   },
   "file_extension": ".py",
   "mimetype": "text/x-python",
   "name": "python",
   "nbconvert_exporter": "python",
   "pygments_lexer": "ipython3",
   "version": "3.11.7"
  }
 },
 "nbformat": 4,
 "nbformat_minor": 5
}
